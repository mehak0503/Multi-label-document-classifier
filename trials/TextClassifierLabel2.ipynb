{
 "cells": [
  {
   "cell_type": "code",
   "execution_count": 1,
   "metadata": {},
   "outputs": [],
   "source": [
    "import sparknlp\n",
    "spark = sparknlp.start() # for GPU training >> sparknlp.start(gpu = True) # for Spark 2.3 =>> sparknlp.start(spark23 = True)\n",
    "from sparknlp.base import *\n",
    "from sparknlp.annotator import *\n",
    "from pyspark.ml import Pipeline\n",
    "import pandas as pd\n",
    "from allComponents import Components\n",
    "from pyspark.sql import SQLContext\n",
    "from pyspark import SparkContext\n",
    "from functools import reduce\n",
    "from pyspark.sql.functions import udf\n",
    "from pyspark.ml.classification import LogisticRegression,LinearSVC\n",
    "from pyspark.ml.classification import RandomForestClassifier, OneVsRest\n",
    "from pyspark.ml.classification import NaiveBayes,MultilayerPerceptronClassifier\n",
    "from pyspark.ml.classification import DecisionTreeClassifier\n",
    "from pyspark.ml.evaluation import MulticlassClassificationEvaluator\n",
    "from pyspark.ml.classification import GBTClassifier\n",
    "from sklearn.metrics import confusion_matrix, classification_report, accuracy_score\n",
    "sc =SparkContext.getOrCreate()\n",
    "sqlContext = SQLContext(sc)"
   ]
  },
  {
   "cell_type": "code",
   "execution_count": 2,
   "metadata": {},
   "outputs": [],
   "source": [
    "def create_dataset():\n",
    "    data = sqlContext.read.format('com.databricks.spark.csv').options(header='true', inferschema='true').load('../dataset.csv')\n",
    "    data1 = sqlContext.read.format('com.databricks.spark.csv').options(header='true', inferschema='true').load('../Document Categorisation.csv')\n",
    "    df = data.join(data1, (data['filename'] == data1['Document Name']))\n",
    "    oldColumns = ['filename','filepath','filetype','filesize','filetext','translatedtext','Document Name','Location','Category 1 (Mandatory)','Category 2 (Optional)','Category 3 (Optional)']\n",
    "    newColumns = ['filename','filepath','filetype','filesize','filetext','translatedtext','DocumentName','Location','Category1(Mandatory)','Category2(Optional)','Category3(Optional)']\n",
    "    df = reduce(lambda data, idx: data.withColumnRenamed(oldColumns[idx], newColumns[idx]), range(len(oldColumns)), df)\n",
    "    drop_list = ['filename', 'filepath','filetext','Category3(Optional)']\n",
    "    result = df.select([column for column in df.columns if column not in drop_list])\n",
    "    #result.show(5)\n",
    "    return result\n",
    "\n",
    "df = create_dataset()"
   ]
  },
  {
   "cell_type": "code",
   "execution_count": 3,
   "metadata": {},
   "outputs": [
    {
     "name": "stdout",
     "output_type": "stream",
     "text": [
      "+--------+--------+--------------------+--------------------+--------------------+--------------------+-------------------+\n",
      "|filetype|filesize|      translatedtext|        DocumentName|            Location|Category1(Mandatory)|Category2(Optional)|\n",
      "+--------+--------+--------------------+--------------------+--------------------+--------------------+-------------------+\n",
      "|     pdf|  110537|Sector performanc...|Sector performanc...|C:\\Users\\classifi...|               Other|       NotSpecified|\n",
      "+--------+--------+--------------------+--------------------+--------------------+--------------------+-------------------+\n",
      "only showing top 1 row\n",
      "\n"
     ]
    }
   ],
   "source": [
    "df = df.na.fill(\"NotSpecified\")#Fill empty\n",
    "df.show(1)"
   ]
  },
  {
   "cell_type": "code",
   "execution_count": 4,
   "metadata": {},
   "outputs": [],
   "source": [
    "def get_pipeline1(choice,inputCol,outCol):\n",
    "    c = Components()\n",
    "    allStages = [c.getDocumentAssembler(inputCol,\"document\"),c.getTokenizer(\"document\",\"tokens\"), c.getNormalizer(\"tokens\",\"normalized\"),\\\n",
    "                        c.getStopWordCleaner(\"normalized\",\"cleaned\"), c.getStemmer(\"cleaned\",\"stemmed\"),\\\n",
    "                        c.getFinisher(\"stemmed\",\"finished\")]\n",
    "    if choice==0:#CountVectorizer\n",
    "        allStages.extend([c.getCountVectorizer(\"finished\",\"features\"),c.getStringIndexer(outCol,\"label\")])\n",
    "        return Pipeline(stages=allStages)\n",
    "    elif choice==1:#Tf-idf\n",
    "        allStages.extend([c.getTf(\"finished\",\"tf\"),c.getIdf(\"tf\",\"features\"),c.getStringIndexer(outCol,\"label\")])\n",
    "        return Pipeline(stages=allStages)"
   ]
  },
  {
   "cell_type": "code",
   "execution_count": 5,
   "metadata": {},
   "outputs": [],
   "source": [
    "def get_pipeline2(choice,inputCol,outCol):\n",
    "    c = Components()\n",
    "    allStages = [c.getDocumentAssembler(inputCol,\"document\"),c.getTokenizer(\"document\",\"tokens\"), \n",
    "                 c.getNormalizer(\"tokens\",\"normalized\"),c.getStopWordCleaner(\"normalized\",\"cleaned\"), \n",
    "                 c.getStemmer(\"cleaned\",\"stemmed\")]\n",
    "    if choice==0:#Glove Embeddings\n",
    "        allStages.extend([c.getGloveEmbeddings([\"document\",\"stemmed\"],\"embeddings\"),\\\n",
    "                          c.getEmbeddingSentence([\"document\", \"embeddings\"],\"sentence_embeddings\"),\\\n",
    "                          c.getEmbeddingFinisher(\"sentence_embeddings\",\"finished_sentence_embeddings\"),\\\n",
    "                          c.getExplodeVectors(\"finished_sentence_embeddings\",\"features\"),\\\n",
    "                          c.getStringIndexer(outCol,\"label\")])\n",
    "        print(allStages)\n",
    "        return Pipeline(stages=allStages)\n",
    "    elif choice==1:#BERT Embeddings\n",
    "        allStages.extend([c.getBERTEmbeddings([\"document\",\"stemmed\"],\"embeddings\"),\\\n",
    "                          c.getEmbeddingSentence([\"document\", \"embeddings\"],\"sentence_embeddings\"),\\\n",
    "                          c.getEmbeddingFinisher(\"sentence_embeddings\",\"finished_sentence_embeddings\"),\\\n",
    "                          c.getExplodeVectors(\"finished_sentence_embeddings\",\"features\"),\\\n",
    "                          c.getStringIndexer(outCol,\"label\")])\n",
    "        return Pipeline(stages=allStages)    \n",
    "    elif choice==2:#ELMO Embeddings\n",
    "        allStages.extend([c.getELMOEmbeddings([\"document\",\"stemmed\"],\"embeddings\"),\\\n",
    "                          c.getEmbeddingSentence([\"document\", \"embeddings\"],\"sentence_embeddings\"),\\\n",
    "                          c.getEmbeddingFinisher(\"sentence_embeddings\",\"finished_sentence_embeddings\"),\\\n",
    "                          c.getExplodeVectors(\"finished_sentence_embeddings\",\"features\"),\\\n",
    "                          c.getStringIndexer(outCol,\"label\")])\n",
    "        return Pipeline(stages=allStages)\n",
    "    elif choice==3:#USE Embeddings\n",
    "        allStages = [c.getDocumentAssembler(inputCol,\"document\"),\\\n",
    "                         c.getUSEEmbeddings(\"document\",\"embeddings\"),\\\n",
    "                          c.getEmbeddingFinisher(\"embeddings\",\"finished_sentence_embeddings\"),\\\n",
    "                          c.getExplodeVectors(\"finished_sentence_embeddings\",\"features\"),\\\n",
    "                          c.getStringIndexer(outCol,\"label\")]\n",
    "        return Pipeline(stages=allStages)"
   ]
  },
  {
   "cell_type": "code",
   "execution_count": 6,
   "metadata": {},
   "outputs": [],
   "source": [
    "def train_test_split(dataframe):\n",
    "    (trainingData, testData) = dataframe.randomSplit([0.8, 0.2], seed = 100)\n",
    "    return trainingData, testData"
   ]
  },
  {
   "cell_type": "code",
   "execution_count": 7,
   "metadata": {},
   "outputs": [],
   "source": [
    "def process_train_test_data(trainingData,testData,outputCol):\n",
    "    @udf(\"long\")\n",
    "    def num_nonzeros(v):\n",
    "        return v.numNonzeros()\n",
    "    testData = testData.where(num_nonzeros(outputCol) != 0)\n",
    "    trainingData = trainingData.where(num_nonzeros(outputCol) != 0)\n",
    "    return trainingData,testData"
   ]
  },
  {
   "cell_type": "code",
   "execution_count": 8,
   "metadata": {},
   "outputs": [],
   "source": [
    "def get_classification_report(dataframe,inputCol,outputCol):\n",
    "    evaluator = MulticlassClassificationEvaluator(predictionCol=outputCol)\n",
    "    print(\"MulticlassEvaluator score: \",evaluator.evaluate(dataframe))\n",
    "    df = dataframe.select(inputCol,outputCol,\"prediction\").toPandas()\n",
    "    print(classification_report(df.label, df.prediction))\n",
    "    print(accuracy_score(df.label, df.prediction))"
   ]
  },
  {
   "cell_type": "code",
   "execution_count": 9,
   "metadata": {},
   "outputs": [],
   "source": [
    "def logistic_regression(trainingData,testData):\n",
    "    lr = LogisticRegression(maxIter=10, regParam=0.3, elasticNetParam=0)\n",
    "    return lr.fit(trainingData).transform(testData)"
   ]
  },
  {
   "cell_type": "code",
   "execution_count": 10,
   "metadata": {},
   "outputs": [],
   "source": [
    "def decision_tree(trainingData,testData,inputCol,outputCol,bins):\n",
    "    dt = DecisionTreeClassifier(featuresCol = inputCol, labelCol = outputCol, maxDepth = 3,maxBins = bins)\n",
    "    return dt.fit(trainingData).transform(testData)"
   ]
  },
  {
   "cell_type": "code",
   "execution_count": 11,
   "metadata": {},
   "outputs": [],
   "source": [
    "def oneRest(trainingData,testData):\n",
    "    lr = LogisticRegression(maxIter=10, tol=1E-6, fitIntercept=True)\n",
    "    ovr = OneVsRest(classifier=lr)\n",
    "    return ovr.fit(trainingData).transform(testData)"
   ]
  },
  {
   "cell_type": "code",
   "execution_count": 12,
   "metadata": {},
   "outputs": [],
   "source": [
    "def random_forest_classifier(trainingData,testData,inputCol,outputCol,bins):\n",
    "    rf = RandomForestClassifier(labelCol=outputCol, \\\n",
    "                            featuresCol=inputCol, \\\n",
    "                            numTrees = 100, \\\n",
    "                            maxDepth = 4, \\\n",
    "                            maxBins = bins)\n",
    "\n",
    "    # Train model with Training Data\n",
    "    return rf.fit(trainingData).transform(testData)"
   ]
  },
  {
   "cell_type": "code",
   "execution_count": 13,
   "metadata": {},
   "outputs": [],
   "source": [
    "def naive_bayes(trainingData,testData):\n",
    "    nb = NaiveBayes(smoothing=1)\n",
    "    return nb.fit(trainingData).transform(testData)"
   ]
  },
  {
   "cell_type": "markdown",
   "metadata": {},
   "source": [
    "\n",
    "\n",
    "# For Label 2\n"
   ]
  },
  {
   "cell_type": "markdown",
   "metadata": {},
   "source": [
    "Pipeline 1. Using CountVectorizer"
   ]
  },
  {
   "cell_type": "code",
   "execution_count": 14,
   "metadata": {},
   "outputs": [],
   "source": [
    "inputCol = \"translatedtext\"\n",
    "outputCol = \"Category2(Optional)\"\n",
    "pipeline = get_pipeline1(0,inputCol,outputCol)\n",
    "processed_df = pipeline.fit(df).transform(df)\n",
    "trainingData,testData = train_test_split(processed_df)\n",
    "bins = len(df.select(outputCol).distinct().collect())"
   ]
  },
  {
   "cell_type": "code",
   "execution_count": 15,
   "metadata": {},
   "outputs": [
    {
     "name": "stdout",
     "output_type": "stream",
     "text": [
      "# Logistic Regression\n",
      "\n",
      "MulticlassEvaluator score:  0.9999999999999996\n",
      "              precision    recall  f1-score   support\n",
      "\n",
      "         0.0       0.36      1.00      0.53        24\n",
      "         1.0       0.94      0.83      0.88        18\n",
      "         2.0       0.67      0.29      0.40         7\n",
      "         3.0       0.67      0.40      0.50         5\n",
      "         4.0       1.00      0.25      0.40         4\n",
      "         5.0       1.00      1.00      1.00         1\n",
      "         6.0       1.00      1.00      1.00         5\n",
      "         7.0       0.00      0.00      0.00         0\n",
      "         8.0       0.00      0.00      0.00         5\n",
      "         9.0       0.00      0.00      0.00         4\n",
      "        10.0       0.00      0.00      0.00         1\n",
      "        11.0       0.00      0.00      0.00         0\n",
      "        12.0       0.00      0.00      0.00         0\n",
      "        13.0       0.00      0.00      0.00         3\n",
      "        14.0       0.00      0.00      0.00         2\n",
      "        15.0       0.00      0.00      0.00         1\n",
      "        16.0       0.00      0.00      0.00         0\n",
      "        17.0       0.00      0.00      0.00         2\n",
      "        18.0       0.00      0.00      0.00         1\n",
      "        19.0       0.00      0.00      0.00         2\n",
      "        20.0       0.00      0.00      0.00         1\n",
      "        21.0       0.00      0.00      0.00         1\n",
      "        22.0       0.00      0.00      0.00         1\n",
      "        23.0       0.00      0.00      0.00         2\n",
      "        25.0       0.00      0.00      0.00         1\n",
      "        26.0       0.00      0.00      0.00         2\n",
      "        28.0       0.00      0.00      0.00         1\n",
      "        31.0       0.00      0.00      0.00         1\n",
      "        35.0       1.00      1.00      1.00         1\n",
      "        38.0       0.00      0.00      0.00         1\n",
      "        47.0       0.00      0.00      0.00         1\n",
      "        48.0       0.00      0.00      0.00         0\n",
      "        49.0       1.00      1.00      1.00         1\n",
      "        53.0       0.00      0.00      0.00         0\n",
      "        54.0       0.00      0.00      0.00         2\n",
      "        56.0       0.00      0.00      0.00         2\n",
      "        57.0       0.00      0.00      0.00         1\n",
      "        61.0       0.00      0.00      0.00         1\n",
      "        64.0       0.00      0.00      0.00         1\n",
      "        73.0       0.00      0.00      0.00         1\n",
      "        75.0       0.00      0.00      0.00         1\n",
      "        76.0       0.00      0.00      0.00         1\n",
      "\n",
      "    accuracy                           0.48       109\n",
      "   macro avg       0.18      0.16      0.16       109\n",
      "weighted avg       0.42      0.48      0.40       109\n",
      "\n",
      "0.47706422018348627\n"
     ]
    },
    {
     "name": "stderr",
     "output_type": "stream",
     "text": [
      "/home/ubuntu/anaconda3/envs/py37/lib/python3.7/site-packages/sklearn/metrics/_classification.py:1221: UndefinedMetricWarning: Precision and F-score are ill-defined and being set to 0.0 in labels with no predicted samples. Use `zero_division` parameter to control this behavior.\n",
      "  _warn_prf(average, modifier, msg_start, len(result))\n",
      "/home/ubuntu/anaconda3/envs/py37/lib/python3.7/site-packages/sklearn/metrics/_classification.py:1221: UndefinedMetricWarning: Recall and F-score are ill-defined and being set to 0.0 in labels with no true samples. Use `zero_division` parameter to control this behavior.\n",
      "  _warn_prf(average, modifier, msg_start, len(result))\n"
     ]
    }
   ],
   "source": [
    "#Logistic Regression\n",
    "print(\"# Logistic Regression\\n\")\n",
    "get_classification_report(logistic_regression(trainingData,testData),\"features\",\"label\")"
   ]
  },
  {
   "cell_type": "code",
   "execution_count": 16,
   "metadata": {},
   "outputs": [
    {
     "name": "stdout",
     "output_type": "stream",
     "text": [
      "# Random Forest\n",
      "MulticlassEvaluator score:  0.9999999999999996\n",
      "              precision    recall  f1-score   support\n",
      "\n",
      "         0.0       0.27      1.00      0.43        24\n",
      "         1.0       1.00      0.78      0.88        18\n",
      "         2.0       1.00      0.14      0.25         7\n",
      "         3.0       0.00      0.00      0.00         5\n",
      "         4.0       0.00      0.00      0.00         4\n",
      "         5.0       1.00      1.00      1.00         1\n",
      "         6.0       1.00      1.00      1.00         5\n",
      "         8.0       0.00      0.00      0.00         5\n",
      "         9.0       0.00      0.00      0.00         4\n",
      "        10.0       0.00      0.00      0.00         1\n",
      "        13.0       0.00      0.00      0.00         3\n",
      "        14.0       0.00      0.00      0.00         2\n",
      "        15.0       0.00      0.00      0.00         1\n",
      "        17.0       0.00      0.00      0.00         2\n",
      "        18.0       0.00      0.00      0.00         1\n",
      "        19.0       0.00      0.00      0.00         2\n",
      "        20.0       0.00      0.00      0.00         1\n",
      "        21.0       0.00      0.00      0.00         1\n",
      "        22.0       0.00      0.00      0.00         1\n",
      "        23.0       0.00      0.00      0.00         2\n",
      "        25.0       0.00      0.00      0.00         1\n",
      "        26.0       0.00      0.00      0.00         2\n",
      "        28.0       0.00      0.00      0.00         1\n",
      "        31.0       0.00      0.00      0.00         1\n",
      "        35.0       0.00      0.00      0.00         1\n",
      "        38.0       0.00      0.00      0.00         1\n",
      "        47.0       0.00      0.00      0.00         1\n",
      "        49.0       0.00      0.00      0.00         1\n",
      "        54.0       0.00      0.00      0.00         2\n",
      "        56.0       0.00      0.00      0.00         2\n",
      "        57.0       0.00      0.00      0.00         1\n",
      "        61.0       0.00      0.00      0.00         1\n",
      "        64.0       0.00      0.00      0.00         1\n",
      "        73.0       0.00      0.00      0.00         1\n",
      "        75.0       0.00      0.00      0.00         1\n",
      "        76.0       0.00      0.00      0.00         1\n",
      "\n",
      "    accuracy                           0.41       109\n",
      "   macro avg       0.12      0.11      0.10       109\n",
      "weighted avg       0.34      0.41      0.31       109\n",
      "\n",
      "0.41284403669724773\n"
     ]
    }
   ],
   "source": [
    "#Random Forest\n",
    "print(\"# Random Forest\")\n",
    "get_classification_report(random_forest_classifier(trainingData,testData,\"features\",\"label\",bins),\"features\",\"label\")    "
   ]
  },
  {
   "cell_type": "code",
   "execution_count": 17,
   "metadata": {},
   "outputs": [
    {
     "name": "stdout",
     "output_type": "stream",
     "text": [
      "# Naive Bayes\n",
      "MulticlassEvaluator score:  0.9999999999999996\n",
      "              precision    recall  f1-score   support\n",
      "\n",
      "         0.0       0.42      0.75      0.54        24\n",
      "         1.0       0.89      0.94      0.92        18\n",
      "         2.0       0.56      0.71      0.63         7\n",
      "         3.0       0.40      0.40      0.40         5\n",
      "         4.0       0.00      0.00      0.00         4\n",
      "         5.0       1.00      1.00      1.00         1\n",
      "         6.0       1.00      1.00      1.00         5\n",
      "         7.0       0.00      0.00      0.00         0\n",
      "         8.0       0.00      0.00      0.00         5\n",
      "         9.0       0.00      0.00      0.00         4\n",
      "        10.0       0.00      0.00      0.00         1\n",
      "        11.0       0.00      0.00      0.00         0\n",
      "        13.0       0.00      0.00      0.00         3\n",
      "        14.0       0.00      0.00      0.00         2\n",
      "        15.0       0.00      0.00      0.00         1\n",
      "        17.0       0.00      0.00      0.00         2\n",
      "        18.0       0.33      1.00      0.50         1\n",
      "        19.0       0.00      0.00      0.00         2\n",
      "        20.0       0.00      0.00      0.00         1\n",
      "        21.0       0.00      0.00      0.00         1\n",
      "        22.0       1.00      1.00      1.00         1\n",
      "        23.0       0.00      0.00      0.00         2\n",
      "        25.0       0.00      0.00      0.00         1\n",
      "        26.0       0.00      0.00      0.00         2\n",
      "        28.0       0.00      0.00      0.00         1\n",
      "        31.0       0.00      0.00      0.00         1\n",
      "        35.0       0.00      0.00      0.00         1\n",
      "        37.0       0.00      0.00      0.00         0\n",
      "        38.0       0.00      0.00      0.00         1\n",
      "        40.0       0.00      0.00      0.00         0\n",
      "        47.0       0.00      0.00      0.00         1\n",
      "        48.0       0.00      0.00      0.00         0\n",
      "        49.0       0.00      0.00      0.00         1\n",
      "        54.0       0.00      0.00      0.00         2\n",
      "        56.0       0.00      0.00      0.00         2\n",
      "        57.0       0.00      0.00      0.00         1\n",
      "        61.0       0.00      0.00      0.00         1\n",
      "        64.0       0.00      0.00      0.00         1\n",
      "        67.0       0.00      0.00      0.00         0\n",
      "        73.0       0.00      0.00      0.00         1\n",
      "        75.0       0.00      0.00      0.00         1\n",
      "        76.0       0.00      0.00      0.00         1\n",
      "\n",
      "    accuracy                           0.46       109\n",
      "   macro avg       0.13      0.16      0.14       109\n",
      "weighted avg       0.36      0.46      0.40       109\n",
      "\n",
      "0.45871559633027525\n"
     ]
    }
   ],
   "source": [
    "#Naive Bayes\n",
    "print(\"# Naive Bayes\")\n",
    "get_classification_report(naive_bayes(trainingData,testData),\"features\",\"label\")\n",
    "    "
   ]
  },
  {
   "cell_type": "code",
   "execution_count": 18,
   "metadata": {},
   "outputs": [
    {
     "name": "stdout",
     "output_type": "stream",
     "text": [
      "# Onevsrest\n",
      "MulticlassEvaluator score:  0.9999999999999996\n",
      "              precision    recall  f1-score   support\n",
      "\n",
      "         0.0       0.47      0.75      0.58        24\n",
      "         1.0       1.00      0.83      0.91        18\n",
      "         2.0       0.88      1.00      0.93         7\n",
      "         3.0       1.00      0.60      0.75         5\n",
      "         4.0       1.00      0.25      0.40         4\n",
      "         5.0       1.00      1.00      1.00         1\n",
      "         6.0       1.00      1.00      1.00         5\n",
      "         7.0       0.00      0.00      0.00         0\n",
      "         8.0       0.00      0.00      0.00         5\n",
      "         9.0       1.00      0.25      0.40         4\n",
      "        10.0       0.00      0.00      0.00         1\n",
      "        11.0       0.00      0.00      0.00         0\n",
      "        12.0       0.00      0.00      0.00         0\n",
      "        13.0       0.00      0.00      0.00         3\n",
      "        14.0       0.00      0.00      0.00         2\n",
      "        15.0       0.00      0.00      0.00         1\n",
      "        17.0       0.00      0.00      0.00         2\n",
      "        18.0       0.50      1.00      0.67         1\n",
      "        19.0       0.00      0.00      0.00         2\n",
      "        20.0       0.00      0.00      0.00         1\n",
      "        21.0       0.00      0.00      0.00         1\n",
      "        22.0       0.50      1.00      0.67         1\n",
      "        23.0       1.00      0.50      0.67         2\n",
      "        25.0       0.00      0.00      0.00         1\n",
      "        26.0       0.00      0.00      0.00         2\n",
      "        27.0       0.00      0.00      0.00         0\n",
      "        28.0       0.50      1.00      0.67         1\n",
      "        31.0       0.00      0.00      0.00         1\n",
      "        35.0       1.00      1.00      1.00         1\n",
      "        38.0       0.00      0.00      0.00         1\n",
      "        43.0       0.00      0.00      0.00         0\n",
      "        47.0       0.00      0.00      0.00         1\n",
      "        48.0       0.00      0.00      0.00         0\n",
      "        49.0       1.00      1.00      1.00         1\n",
      "        50.0       0.00      0.00      0.00         0\n",
      "        52.0       0.00      0.00      0.00         0\n",
      "        53.0       0.00      0.00      0.00         0\n",
      "        54.0       0.00      0.00      0.00         2\n",
      "        56.0       0.00      0.00      0.00         2\n",
      "        57.0       0.00      0.00      0.00         1\n",
      "        61.0       0.00      0.00      0.00         1\n",
      "        64.0       0.00      0.00      0.00         1\n",
      "        65.0       0.00      0.00      0.00         0\n",
      "        73.0       0.00      0.00      0.00         1\n",
      "        75.0       0.00      0.00      0.00         1\n",
      "        76.0       0.00      0.00      0.00         1\n",
      "\n",
      "    accuracy                           0.52       109\n",
      "   macro avg       0.26      0.24      0.23       109\n",
      "weighted avg       0.55      0.52      0.51       109\n",
      "\n",
      "0.5229357798165137\n"
     ]
    }
   ],
   "source": [
    "#OneVsRest\n",
    "print(\"# Onevsrest\")\n",
    "get_classification_report(oneRest(trainingData,testData),\"features\",\"label\")"
   ]
  },
  {
   "cell_type": "markdown",
   "metadata": {},
   "source": [
    "Pipeline 2: Using TF-IDF "
   ]
  },
  {
   "cell_type": "code",
   "execution_count": 19,
   "metadata": {},
   "outputs": [],
   "source": [
    "inputCol = \"translatedtext\"\n",
    "outputCol = \"Category2(Optional)\"\n",
    "pipeline = get_pipeline1(0,inputCol,outputCol)\n",
    "processed_df = pipeline.fit(df).transform(df)\n",
    "trainingData,testData = train_test_split(processed_df)\n",
    "bins = len(df.select(outputCol).distinct().collect())"
   ]
  },
  {
   "cell_type": "code",
   "execution_count": 20,
   "metadata": {},
   "outputs": [
    {
     "name": "stdout",
     "output_type": "stream",
     "text": [
      "# Logistic Regression\n",
      "\n",
      "MulticlassEvaluator score:  0.9999999999999996\n",
      "              precision    recall  f1-score   support\n",
      "\n",
      "         0.0       0.36      1.00      0.53        24\n",
      "         1.0       0.94      0.83      0.88        18\n",
      "         2.0       0.67      0.29      0.40         7\n",
      "         3.0       0.67      0.40      0.50         5\n",
      "         4.0       1.00      0.25      0.40         4\n",
      "         5.0       1.00      1.00      1.00         1\n",
      "         6.0       1.00      1.00      1.00         5\n",
      "         7.0       0.00      0.00      0.00         0\n",
      "         8.0       0.00      0.00      0.00         5\n",
      "         9.0       0.00      0.00      0.00         4\n",
      "        10.0       0.00      0.00      0.00         1\n",
      "        11.0       0.00      0.00      0.00         0\n",
      "        12.0       0.00      0.00      0.00         0\n",
      "        13.0       0.00      0.00      0.00         3\n",
      "        14.0       0.00      0.00      0.00         2\n",
      "        15.0       0.00      0.00      0.00         1\n",
      "        16.0       0.00      0.00      0.00         0\n",
      "        17.0       0.00      0.00      0.00         2\n",
      "        18.0       0.00      0.00      0.00         1\n",
      "        19.0       0.00      0.00      0.00         2\n",
      "        20.0       0.00      0.00      0.00         1\n",
      "        21.0       0.00      0.00      0.00         1\n",
      "        22.0       0.00      0.00      0.00         1\n",
      "        23.0       0.00      0.00      0.00         2\n",
      "        25.0       0.00      0.00      0.00         1\n",
      "        26.0       0.00      0.00      0.00         2\n",
      "        28.0       0.00      0.00      0.00         1\n",
      "        31.0       0.00      0.00      0.00         1\n",
      "        35.0       1.00      1.00      1.00         1\n",
      "        38.0       0.00      0.00      0.00         1\n",
      "        47.0       0.00      0.00      0.00         1\n",
      "        48.0       0.00      0.00      0.00         0\n",
      "        49.0       1.00      1.00      1.00         1\n",
      "        53.0       0.00      0.00      0.00         0\n",
      "        54.0       0.00      0.00      0.00         2\n",
      "        56.0       0.00      0.00      0.00         2\n",
      "        57.0       0.00      0.00      0.00         1\n",
      "        61.0       0.00      0.00      0.00         1\n",
      "        64.0       0.00      0.00      0.00         1\n",
      "        73.0       0.00      0.00      0.00         1\n",
      "        75.0       0.00      0.00      0.00         1\n",
      "        76.0       0.00      0.00      0.00         1\n",
      "\n",
      "    accuracy                           0.48       109\n",
      "   macro avg       0.18      0.16      0.16       109\n",
      "weighted avg       0.42      0.48      0.40       109\n",
      "\n",
      "0.47706422018348627\n"
     ]
    }
   ],
   "source": [
    "#Logistic Regression\n",
    "print(\"# Logistic Regression\\n\")\n",
    "get_classification_report(logistic_regression(trainingData,testData),\"features\",\"label\")"
   ]
  },
  {
   "cell_type": "code",
   "execution_count": 21,
   "metadata": {},
   "outputs": [
    {
     "name": "stdout",
     "output_type": "stream",
     "text": [
      "# Random Forest\n",
      "MulticlassEvaluator score:  0.9999999999999996\n",
      "              precision    recall  f1-score   support\n",
      "\n",
      "         0.0       0.26      1.00      0.42        24\n",
      "         1.0       1.00      0.67      0.80        18\n",
      "         2.0       0.00      0.00      0.00         7\n",
      "         3.0       0.00      0.00      0.00         5\n",
      "         4.0       0.00      0.00      0.00         4\n",
      "         5.0       1.00      1.00      1.00         1\n",
      "         6.0       1.00      1.00      1.00         5\n",
      "         8.0       0.00      0.00      0.00         5\n",
      "         9.0       0.00      0.00      0.00         4\n",
      "        10.0       0.00      0.00      0.00         1\n",
      "        13.0       0.00      0.00      0.00         3\n",
      "        14.0       0.00      0.00      0.00         2\n",
      "        15.0       0.00      0.00      0.00         1\n",
      "        17.0       0.00      0.00      0.00         2\n",
      "        18.0       0.00      0.00      0.00         1\n",
      "        19.0       0.00      0.00      0.00         2\n",
      "        20.0       0.00      0.00      0.00         1\n",
      "        21.0       0.00      0.00      0.00         1\n",
      "        22.0       0.00      0.00      0.00         1\n",
      "        23.0       0.00      0.00      0.00         2\n",
      "        25.0       0.00      0.00      0.00         1\n",
      "        26.0       0.00      0.00      0.00         2\n",
      "        28.0       0.00      0.00      0.00         1\n",
      "        31.0       0.00      0.00      0.00         1\n",
      "        35.0       0.00      0.00      0.00         1\n",
      "        38.0       0.00      0.00      0.00         1\n",
      "        47.0       0.00      0.00      0.00         1\n",
      "        49.0       0.00      0.00      0.00         1\n",
      "        54.0       0.00      0.00      0.00         2\n",
      "        56.0       0.00      0.00      0.00         2\n",
      "        57.0       0.00      0.00      0.00         1\n",
      "        61.0       0.00      0.00      0.00         1\n",
      "        64.0       0.00      0.00      0.00         1\n",
      "        73.0       0.00      0.00      0.00         1\n",
      "        75.0       0.00      0.00      0.00         1\n",
      "        76.0       0.00      0.00      0.00         1\n",
      "\n",
      "    accuracy                           0.39       109\n",
      "   macro avg       0.09      0.10      0.09       109\n",
      "weighted avg       0.28      0.39      0.28       109\n",
      "\n",
      "0.3853211009174312\n"
     ]
    }
   ],
   "source": [
    "#Random Forest\n",
    "print(\"# Random Forest\")\n",
    "get_classification_report(random_forest_classifier(trainingData,testData,\"features\",\"label\",bins),\"features\",\"label\")    "
   ]
  },
  {
   "cell_type": "code",
   "execution_count": 22,
   "metadata": {},
   "outputs": [
    {
     "name": "stdout",
     "output_type": "stream",
     "text": [
      "# Naive Bayes\n",
      "MulticlassEvaluator score:  0.9999999999999996\n",
      "              precision    recall  f1-score   support\n",
      "\n",
      "         0.0       0.42      0.75      0.54        24\n",
      "         1.0       0.89      0.94      0.92        18\n",
      "         2.0       0.56      0.71      0.63         7\n",
      "         3.0       0.40      0.40      0.40         5\n",
      "         4.0       0.00      0.00      0.00         4\n",
      "         5.0       1.00      1.00      1.00         1\n",
      "         6.0       1.00      1.00      1.00         5\n",
      "         7.0       0.00      0.00      0.00         0\n",
      "         8.0       0.00      0.00      0.00         5\n",
      "         9.0       0.00      0.00      0.00         4\n",
      "        10.0       0.00      0.00      0.00         1\n",
      "        11.0       0.00      0.00      0.00         0\n",
      "        13.0       0.00      0.00      0.00         3\n",
      "        14.0       0.00      0.00      0.00         2\n",
      "        15.0       0.00      0.00      0.00         1\n",
      "        17.0       0.00      0.00      0.00         2\n",
      "        18.0       0.33      1.00      0.50         1\n",
      "        19.0       0.00      0.00      0.00         2\n",
      "        20.0       0.00      0.00      0.00         1\n",
      "        21.0       0.00      0.00      0.00         1\n",
      "        22.0       1.00      1.00      1.00         1\n",
      "        23.0       0.00      0.00      0.00         2\n",
      "        25.0       0.00      0.00      0.00         1\n",
      "        26.0       0.00      0.00      0.00         2\n",
      "        28.0       0.00      0.00      0.00         1\n",
      "        31.0       0.00      0.00      0.00         1\n",
      "        35.0       0.00      0.00      0.00         1\n",
      "        37.0       0.00      0.00      0.00         0\n",
      "        38.0       0.00      0.00      0.00         1\n",
      "        40.0       0.00      0.00      0.00         0\n",
      "        47.0       0.00      0.00      0.00         1\n",
      "        48.0       0.00      0.00      0.00         0\n",
      "        49.0       0.00      0.00      0.00         1\n",
      "        54.0       0.00      0.00      0.00         2\n",
      "        56.0       0.00      0.00      0.00         2\n",
      "        57.0       0.00      0.00      0.00         1\n",
      "        61.0       0.00      0.00      0.00         1\n",
      "        64.0       0.00      0.00      0.00         1\n",
      "        67.0       0.00      0.00      0.00         0\n",
      "        73.0       0.00      0.00      0.00         1\n",
      "        75.0       0.00      0.00      0.00         1\n",
      "        76.0       0.00      0.00      0.00         1\n",
      "\n",
      "    accuracy                           0.46       109\n",
      "   macro avg       0.13      0.16      0.14       109\n",
      "weighted avg       0.36      0.46      0.40       109\n",
      "\n",
      "0.45871559633027525\n"
     ]
    }
   ],
   "source": [
    "#Naive Bayes\n",
    "print(\"# Naive Bayes\")\n",
    "get_classification_report(naive_bayes(trainingData,testData),\"features\",\"label\")"
   ]
  },
  {
   "cell_type": "code",
   "execution_count": 23,
   "metadata": {},
   "outputs": [
    {
     "name": "stdout",
     "output_type": "stream",
     "text": [
      "# Onevsrest\n",
      "MulticlassEvaluator score:  0.9999999999999996\n",
      "              precision    recall  f1-score   support\n",
      "\n",
      "         0.0       0.47      0.75      0.58        24\n",
      "         1.0       1.00      0.83      0.91        18\n",
      "         2.0       0.88      1.00      0.93         7\n",
      "         3.0       1.00      0.60      0.75         5\n",
      "         4.0       1.00      0.25      0.40         4\n",
      "         5.0       1.00      1.00      1.00         1\n",
      "         6.0       1.00      1.00      1.00         5\n",
      "         7.0       0.00      0.00      0.00         0\n",
      "         8.0       0.00      0.00      0.00         5\n",
      "         9.0       1.00      0.25      0.40         4\n",
      "        10.0       0.00      0.00      0.00         1\n",
      "        11.0       0.00      0.00      0.00         0\n",
      "        12.0       0.00      0.00      0.00         0\n",
      "        13.0       0.00      0.00      0.00         3\n",
      "        14.0       0.00      0.00      0.00         2\n",
      "        15.0       0.00      0.00      0.00         1\n",
      "        17.0       0.00      0.00      0.00         2\n",
      "        18.0       0.50      1.00      0.67         1\n",
      "        19.0       0.00      0.00      0.00         2\n",
      "        20.0       0.00      0.00      0.00         1\n",
      "        21.0       0.00      0.00      0.00         1\n",
      "        22.0       0.50      1.00      0.67         1\n",
      "        23.0       1.00      0.50      0.67         2\n",
      "        25.0       0.00      0.00      0.00         1\n",
      "        26.0       0.00      0.00      0.00         2\n",
      "        27.0       0.00      0.00      0.00         0\n",
      "        28.0       0.50      1.00      0.67         1\n",
      "        31.0       0.00      0.00      0.00         1\n",
      "        35.0       1.00      1.00      1.00         1\n",
      "        38.0       0.00      0.00      0.00         1\n",
      "        43.0       0.00      0.00      0.00         0\n",
      "        47.0       0.00      0.00      0.00         1\n",
      "        48.0       0.00      0.00      0.00         0\n",
      "        49.0       1.00      1.00      1.00         1\n",
      "        50.0       0.00      0.00      0.00         0\n",
      "        52.0       0.00      0.00      0.00         0\n",
      "        53.0       0.00      0.00      0.00         0\n",
      "        54.0       0.00      0.00      0.00         2\n",
      "        56.0       0.00      0.00      0.00         2\n",
      "        57.0       0.00      0.00      0.00         1\n",
      "        61.0       0.00      0.00      0.00         1\n",
      "        64.0       0.00      0.00      0.00         1\n",
      "        65.0       0.00      0.00      0.00         0\n",
      "        73.0       0.00      0.00      0.00         1\n",
      "        75.0       0.00      0.00      0.00         1\n",
      "        76.0       0.00      0.00      0.00         1\n",
      "\n",
      "    accuracy                           0.52       109\n",
      "   macro avg       0.26      0.24      0.23       109\n",
      "weighted avg       0.55      0.52      0.51       109\n",
      "\n",
      "0.5229357798165137\n"
     ]
    }
   ],
   "source": [
    "#OneVsRest\n",
    "print(\"# Onevsrest\")\n",
    "get_classification_report(oneRest(trainingData,testData),\"features\",\"label\")"
   ]
  },
  {
   "cell_type": "markdown",
   "metadata": {},
   "source": [
    "Pipeline 3: Using Glove Embeddings"
   ]
  },
  {
   "cell_type": "code",
   "execution_count": 39,
   "metadata": {},
   "outputs": [
    {
     "name": "stdout",
     "output_type": "stream",
     "text": [
      "glove_100d download started this may take some time.\n",
      "Approximate size to download 145.3 MB\n",
      "[OK!]\n",
      "[DocumentAssembler_654a27c1896a, Tokenizer_f381b3e0f9c7, Normalizer_0b4fed457aca, StopWordsCleaner_ab41a111d871, Stemmer_f6ba936ced1e, WORD_EMBEDDINGS_MODEL_48cffc8b9a76, SentenceEmbeddings_7b2f3747b873, EmbeddingsFinisher_fb5ba8138f59, SQLTransformer_7f3e1b63cd34, StringIndexer_e5e656271516]\n"
     ]
    }
   ],
   "source": [
    "inputCol = \"translatedtext\"\n",
    "outputCol = \"Category2(Optional)\"\n",
    "pipeline = get_pipeline2(0,inputCol,outputCol)\n",
    "processed_df = pipeline.fit(df).transform(df)\n",
    "trainingData,testData = train_test_split(processed_df)\n",
    "trainingData,testData = process_train_test_data(trainingData,testData,\"features\")\n",
    "bins = len(df.select(outputCol).distinct().collect())"
   ]
  },
  {
   "cell_type": "code",
   "execution_count": 40,
   "metadata": {},
   "outputs": [
    {
     "name": "stdout",
     "output_type": "stream",
     "text": [
      "# Logistic Regression\n",
      "\n",
      "MulticlassEvaluator score:  0.9999999999999998\n",
      "              precision    recall  f1-score   support\n",
      "\n",
      "         0.0       0.31      0.88      0.45        17\n",
      "         1.0       0.48      0.83      0.61        12\n",
      "         2.0       0.50      0.62      0.56         8\n",
      "         3.0       0.38      0.75      0.50         4\n",
      "         4.0       1.00      0.62      0.77         8\n",
      "         5.0       0.86      0.75      0.80         8\n",
      "         6.0       0.00      0.00      0.00         6\n",
      "         7.0       0.00      0.00      0.00         4\n",
      "         8.0       1.00      0.33      0.50         3\n",
      "         9.0       0.00      0.00      0.00         4\n",
      "        10.0       0.00      0.00      0.00         4\n",
      "        11.0       1.00      0.17      0.29         6\n",
      "        12.0       0.00      0.00      0.00         1\n",
      "        13.0       0.00      0.00      0.00         2\n",
      "        14.0       0.00      0.00      0.00         2\n",
      "        15.0       0.00      0.00      0.00         1\n",
      "        16.0       0.00      0.00      0.00         2\n",
      "        17.0       0.00      0.00      0.00         2\n",
      "        19.0       0.00      0.00      0.00         3\n",
      "        20.0       0.00      0.00      0.00         2\n",
      "        21.0       0.00      0.00      0.00         1\n",
      "        23.0       0.00      0.00      0.00         1\n",
      "        26.0       0.00      0.00      0.00         1\n",
      "\n",
      "    accuracy                           0.45       102\n",
      "   macro avg       0.24      0.22      0.19       102\n",
      "weighted avg       0.39      0.45      0.36       102\n",
      "\n",
      "0.45098039215686275\n"
     ]
    }
   ],
   "source": [
    "#Logistic Regression\n",
    "print(\"# Logistic Regression\\n\")\n",
    "get_classification_report(logistic_regression(trainingData,testData),\"features\",\"label\")"
   ]
  },
  {
   "cell_type": "code",
   "execution_count": 41,
   "metadata": {},
   "outputs": [
    {
     "name": "stdout",
     "output_type": "stream",
     "text": [
      "# Random Forest\n",
      "MulticlassEvaluator score:  0.9999999999999998\n",
      "              precision    recall  f1-score   support\n",
      "\n",
      "         0.0       0.35      0.94      0.51        17\n",
      "         1.0       0.43      0.83      0.57        12\n",
      "         2.0       0.36      0.62      0.45         8\n",
      "         3.0       0.75      0.75      0.75         4\n",
      "         4.0       1.00      0.62      0.77         8\n",
      "         5.0       1.00      0.62      0.77         8\n",
      "         6.0       0.00      0.00      0.00         6\n",
      "         7.0       1.00      0.25      0.40         4\n",
      "         8.0       0.00      0.00      0.00         3\n",
      "         9.0       0.00      0.00      0.00         4\n",
      "        10.0       0.00      0.00      0.00         4\n",
      "        11.0       1.00      0.67      0.80         6\n",
      "        12.0       0.00      0.00      0.00         1\n",
      "        13.0       0.00      0.00      0.00         2\n",
      "        14.0       0.00      0.00      0.00         2\n",
      "        15.0       0.00      0.00      0.00         1\n",
      "        16.0       0.00      0.00      0.00         2\n",
      "        17.0       0.00      0.00      0.00         2\n",
      "        19.0       0.00      0.00      0.00         3\n",
      "        20.0       0.00      0.00      0.00         2\n",
      "        21.0       0.00      0.00      0.00         1\n",
      "        23.0       0.00      0.00      0.00         1\n",
      "        26.0       0.00      0.00      0.00         1\n",
      "\n",
      "    accuracy                           0.48       102\n",
      "   macro avg       0.26      0.23      0.22       102\n",
      "weighted avg       0.42      0.48      0.40       102\n",
      "\n",
      "0.4803921568627451\n"
     ]
    }
   ],
   "source": [
    "#Random Forest\n",
    "print(\"# Random Forest\")\n",
    "get_classification_report(random_forest_classifier(trainingData,testData,\"features\",\"label\",bins),\"features\",\"label\")    "
   ]
  },
  {
   "cell_type": "code",
   "execution_count": 43,
   "metadata": {},
   "outputs": [
    {
     "name": "stdout",
     "output_type": "stream",
     "text": [
      "# Onevsrest\n",
      "MulticlassEvaluator score:  0.9999999999999998\n",
      "              precision    recall  f1-score   support\n",
      "\n",
      "         0.0       0.65      0.88      0.75        17\n",
      "         1.0       0.65      0.92      0.76        12\n",
      "         2.0       0.60      0.38      0.46         8\n",
      "         3.0       0.43      0.75      0.55         4\n",
      "         4.0       0.83      0.62      0.71         8\n",
      "         5.0       0.83      0.62      0.71         8\n",
      "         6.0       0.00      0.00      0.00         6\n",
      "         7.0       1.00      0.75      0.86         4\n",
      "         8.0       0.33      0.67      0.44         3\n",
      "         9.0       0.67      1.00      0.80         4\n",
      "        10.0       0.33      0.50      0.40         4\n",
      "        11.0       1.00      0.67      0.80         6\n",
      "        12.0       1.00      1.00      1.00         1\n",
      "        13.0       0.00      0.00      0.00         2\n",
      "        14.0       1.00      0.50      0.67         2\n",
      "        15.0       0.00      0.00      0.00         1\n",
      "        16.0       1.00      0.50      0.67         2\n",
      "        17.0       0.00      0.00      0.00         2\n",
      "        19.0       1.00      0.33      0.50         3\n",
      "        20.0       1.00      1.00      1.00         2\n",
      "        21.0       0.00      0.00      0.00         1\n",
      "        23.0       1.00      1.00      1.00         1\n",
      "        26.0       1.00      1.00      1.00         1\n",
      "\n",
      "    accuracy                           0.64       102\n",
      "   macro avg       0.62      0.57      0.57       102\n",
      "weighted avg       0.64      0.64      0.61       102\n",
      "\n",
      "0.6372549019607843\n"
     ]
    }
   ],
   "source": [
    "#OneVsRest\n",
    "print(\"# Onevsrest\")\n",
    "get_classification_report(oneRest(trainingData,testData),\"features\",\"label\")"
   ]
  },
  {
   "cell_type": "markdown",
   "metadata": {},
   "source": [
    "Pipeline 4: Using BERT Embeddings"
   ]
  },
  {
   "cell_type": "code",
   "execution_count": 44,
   "metadata": {},
   "outputs": [
    {
     "name": "stdout",
     "output_type": "stream",
     "text": [
      "bert_base_cased download started this may take some time.\n",
      "Approximate size to download 389.2 MB\n",
      "[OK!]\n"
     ]
    }
   ],
   "source": [
    "inputCol = \"translatedtext\"\n",
    "outputCol = \"Category2(Optional)\"\n",
    "pipeline = get_pipeline2(1,inputCol,outputCol)\n",
    "processed_df = pipeline.fit(df).transform(df)\n",
    "trainingData,testData = train_test_split(processed_df)\n",
    "trainingData,testData = process_train_test_data(trainingData,testData,\"features\")\n",
    "bins = len(df.select(outputCol).distinct().collect())"
   ]
  },
  {
   "cell_type": "code",
   "execution_count": 45,
   "metadata": {},
   "outputs": [
    {
     "name": "stdout",
     "output_type": "stream",
     "text": [
      "# Logistic Regression\n",
      "\n",
      "MulticlassEvaluator score:  1.0\n",
      "              precision    recall  f1-score   support\n",
      "\n",
      "         0.0       0.66      0.95      0.78        22\n",
      "         1.0       0.70      0.88      0.78        16\n",
      "         2.0       0.35      0.88      0.50         8\n",
      "         3.0       0.54      0.78      0.64         9\n",
      "         4.0       0.43      0.38      0.40         8\n",
      "         5.0       0.75      0.43      0.55         7\n",
      "         6.0       1.00      0.17      0.29         6\n",
      "         7.0       1.00      0.50      0.67         2\n",
      "         8.0       0.50      0.33      0.40         3\n",
      "         9.0       1.00      1.00      1.00         2\n",
      "        10.0       0.50      0.33      0.40         3\n",
      "        11.0       1.00      0.67      0.80         3\n",
      "        12.0       0.00      0.00      0.00         3\n",
      "        13.0       0.00      0.00      0.00         3\n",
      "        14.0       0.00      0.00      0.00         2\n",
      "        15.0       0.00      0.00      0.00         2\n",
      "        17.0       0.00      0.00      0.00         1\n",
      "        18.0       0.00      0.00      0.00         2\n",
      "        19.0       0.00      0.00      0.00         1\n",
      "        20.0       1.00      1.00      1.00         1\n",
      "        21.0       0.00      0.00      0.00         1\n",
      "        22.0       0.00      0.00      0.00         1\n",
      "        24.0       0.00      0.00      0.00         1\n",
      "        25.0       0.00      0.00      0.00         1\n",
      "\n",
      "    accuracy                           0.59       108\n",
      "   macro avg       0.39      0.35      0.34       108\n",
      "weighted avg       0.55      0.59      0.53       108\n",
      "\n",
      "0.5925925925925926\n"
     ]
    }
   ],
   "source": [
    "#Logistic Regression\n",
    "print(\"# Logistic Regression\\n\")\n",
    "get_classification_report(logistic_regression(trainingData,testData),\"features\",\"label\")"
   ]
  },
  {
   "cell_type": "code",
   "execution_count": 46,
   "metadata": {},
   "outputs": [
    {
     "name": "stdout",
     "output_type": "stream",
     "text": [
      "# Random Forest\n",
      "MulticlassEvaluator score:  1.0\n",
      "              precision    recall  f1-score   support\n",
      "\n",
      "         0.0       0.33      1.00      0.50        22\n",
      "         1.0       0.75      0.75      0.75        16\n",
      "         2.0       0.12      0.25      0.16         8\n",
      "         3.0       1.00      0.56      0.71         9\n",
      "         4.0       0.50      0.25      0.33         8\n",
      "         5.0       0.00      0.00      0.00         7\n",
      "         6.0       0.00      0.00      0.00         6\n",
      "         7.0       0.00      0.00      0.00         2\n",
      "         8.0       0.00      0.00      0.00         3\n",
      "         9.0       0.00      0.00      0.00         2\n",
      "        10.0       0.00      0.00      0.00         3\n",
      "        11.0       0.00      0.00      0.00         3\n",
      "        12.0       0.00      0.00      0.00         3\n",
      "        13.0       0.00      0.00      0.00         3\n",
      "        14.0       0.00      0.00      0.00         2\n",
      "        15.0       0.00      0.00      0.00         2\n",
      "        17.0       0.00      0.00      0.00         1\n",
      "        18.0       0.00      0.00      0.00         2\n",
      "        19.0       0.00      0.00      0.00         1\n",
      "        20.0       0.00      0.00      0.00         1\n",
      "        21.0       0.00      0.00      0.00         1\n",
      "        22.0       0.00      0.00      0.00         1\n",
      "        24.0       0.00      0.00      0.00         1\n",
      "        25.0       0.00      0.00      0.00         1\n",
      "\n",
      "    accuracy                           0.40       108\n",
      "   macro avg       0.11      0.12      0.10       108\n",
      "weighted avg       0.31      0.40      0.31       108\n",
      "\n",
      "0.39814814814814814\n"
     ]
    }
   ],
   "source": [
    "#Random Forest\n",
    "print(\"# Random Forest\")\n",
    "get_classification_report(random_forest_classifier(trainingData,testData,\"features\",\"label\",bins),\"features\",\"label\")    "
   ]
  },
  {
   "cell_type": "code",
   "execution_count": 48,
   "metadata": {},
   "outputs": [
    {
     "name": "stdout",
     "output_type": "stream",
     "text": [
      "# Onevsrest\n",
      "MulticlassEvaluator score:  1.0\n",
      "              precision    recall  f1-score   support\n",
      "\n",
      "         0.0       0.66      0.86      0.75        22\n",
      "         1.0       0.81      0.81      0.81        16\n",
      "         2.0       0.37      0.88      0.52         8\n",
      "         3.0       0.67      0.89      0.76         9\n",
      "         4.0       0.60      0.38      0.46         8\n",
      "         5.0       0.83      0.71      0.77         7\n",
      "         6.0       0.40      0.33      0.36         6\n",
      "         7.0       1.00      1.00      1.00         2\n",
      "         8.0       0.50      0.33      0.40         3\n",
      "         9.0       1.00      1.00      1.00         2\n",
      "        10.0       0.50      0.33      0.40         3\n",
      "        11.0       1.00      0.67      0.80         3\n",
      "        12.0       0.00      0.00      0.00         3\n",
      "        13.0       0.00      0.00      0.00         3\n",
      "        14.0       0.00      0.00      0.00         2\n",
      "        15.0       0.00      0.00      0.00         2\n",
      "        17.0       0.00      0.00      0.00         1\n",
      "        18.0       0.00      0.00      0.00         2\n",
      "        19.0       0.00      0.00      0.00         1\n",
      "        20.0       1.00      1.00      1.00         1\n",
      "        21.0       0.00      0.00      0.00         1\n",
      "        22.0       0.00      0.00      0.00         1\n",
      "        24.0       0.00      0.00      0.00         1\n",
      "        25.0       0.00      0.00      0.00         1\n",
      "\n",
      "    accuracy                           0.61       108\n",
      "   macro avg       0.39      0.38      0.38       108\n",
      "weighted avg       0.56      0.61      0.57       108\n",
      "\n",
      "0.6111111111111112\n"
     ]
    }
   ],
   "source": [
    "#OneVsRest\n",
    "print(\"# Onevsrest\")\n",
    "get_classification_report(oneRest(trainingData,testData),\"features\",\"label\")"
   ]
  },
  {
   "cell_type": "markdown",
   "metadata": {},
   "source": [
    "Pipeline 5: Using ELMO Embeddings"
   ]
  },
  {
   "cell_type": "code",
   "execution_count": 50,
   "metadata": {},
   "outputs": [
    {
     "name": "stdout",
     "output_type": "stream",
     "text": [
      "elmo download started this may take some time.\n",
      "Approximate size to download 334.1 MB\n",
      "[OK!]\n"
     ]
    }
   ],
   "source": [
    "inputCol = \"translatedtext\"\n",
    "outputCol = \"Category2(Optional)\"\n",
    "pipeline = get_pipeline2(2,inputCol,outputCol)\n",
    "processed_df = pipeline.fit(df).transform(df)\n",
    "trainingData,testData = train_test_split(processed_df)\n",
    "trainingData,testData = process_train_test_data(trainingData,testData,\"features\")\n",
    "bins = len(df.select(outputCol).distinct().collect())"
   ]
  },
  {
   "cell_type": "code",
   "execution_count": 51,
   "metadata": {},
   "outputs": [
    {
     "name": "stdout",
     "output_type": "stream",
     "text": [
      "# Logistic Regression\n",
      "\n",
      "MulticlassEvaluator score:  1.0000000000000002\n",
      "              precision    recall  f1-score   support\n",
      "\n",
      "         0.0       0.81      0.91      0.86        23\n",
      "         1.0       0.72      0.87      0.79        15\n",
      "         2.0       0.29      0.82      0.43        11\n",
      "         3.0       0.83      0.71      0.77         7\n",
      "         4.0       1.00      0.78      0.88         9\n",
      "         5.0       0.50      0.75      0.60         4\n",
      "         6.0       0.00      0.00      0.00         4\n",
      "         7.0       1.00      0.33      0.50         3\n",
      "         8.0       0.00      0.00      0.00         2\n",
      "         9.0       0.60      0.75      0.67         4\n",
      "        10.0       1.00      0.25      0.40         4\n",
      "        11.0       1.00      1.00      1.00         5\n",
      "        12.0       0.00      0.00      0.00         3\n",
      "        13.0       0.00      0.00      0.00         4\n",
      "        14.0       0.00      0.00      0.00         1\n",
      "        15.0       0.00      0.00      0.00         2\n",
      "        16.0       0.00      0.00      0.00         1\n",
      "        18.0       0.00      0.00      0.00         1\n",
      "        19.0       0.00      0.00      0.00         1\n",
      "        21.0       0.00      0.00      0.00         1\n",
      "        22.0       0.00      0.00      0.00         2\n",
      "        26.0       0.00      0.00      0.00         1\n",
      "\n",
      "    accuracy                           0.63       108\n",
      "   macro avg       0.35      0.33      0.31       108\n",
      "weighted avg       0.59      0.63      0.58       108\n",
      "\n",
      "0.6296296296296297\n"
     ]
    }
   ],
   "source": [
    "#Logistic Regression\n",
    "print(\"# Logistic Regression\\n\")\n",
    "get_classification_report(logistic_regression(trainingData,testData),\"features\",\"label\")"
   ]
  },
  {
   "cell_type": "code",
   "execution_count": 52,
   "metadata": {},
   "outputs": [
    {
     "name": "stdout",
     "output_type": "stream",
     "text": [
      "# Random Forest\n",
      "MulticlassEvaluator score:  1.0000000000000002\n",
      "              precision    recall  f1-score   support\n",
      "\n",
      "         0.0       0.59      1.00      0.74        23\n",
      "         1.0       0.59      0.87      0.70        15\n",
      "         2.0       0.25      0.55      0.34        11\n",
      "         3.0       0.44      0.57      0.50         7\n",
      "         4.0       1.00      0.67      0.80         9\n",
      "         5.0       1.00      0.50      0.67         4\n",
      "         6.0       0.00      0.00      0.00         4\n",
      "         7.0       1.00      0.33      0.50         3\n",
      "         8.0       0.00      0.00      0.00         2\n",
      "         9.0       0.00      0.00      0.00         4\n",
      "        10.0       0.00      0.00      0.00         4\n",
      "        11.0       1.00      1.00      1.00         5\n",
      "        12.0       0.00      0.00      0.00         3\n",
      "        13.0       0.00      0.00      0.00         4\n",
      "        14.0       0.00      0.00      0.00         1\n",
      "        15.0       0.00      0.00      0.00         2\n",
      "        16.0       0.00      0.00      0.00         1\n",
      "        18.0       0.00      0.00      0.00         1\n",
      "        19.0       0.00      0.00      0.00         1\n",
      "        21.0       0.00      0.00      0.00         1\n",
      "        22.0       0.00      0.00      0.00         2\n",
      "        26.0       0.00      0.00      0.00         1\n",
      "\n",
      "    accuracy                           0.56       108\n",
      "   macro avg       0.27      0.25      0.24       108\n",
      "weighted avg       0.46      0.56      0.47       108\n",
      "\n",
      "0.5555555555555556\n"
     ]
    }
   ],
   "source": [
    "#Random Forest\n",
    "print(\"# Random Forest\")\n",
    "get_classification_report(random_forest_classifier(trainingData,testData,\"features\",\"label\",bins),\"features\",\"label\")    "
   ]
  },
  {
   "cell_type": "code",
   "execution_count": 24,
   "metadata": {},
   "outputs": [
    {
     "name": "stdout",
     "output_type": "stream",
     "text": [
      "# Onevsrest\n",
      "MulticlassEvaluator score:  0.9999999999999996\n",
      "              precision    recall  f1-score   support\n",
      "\n",
      "         0.0       0.47      0.75      0.58        24\n",
      "         1.0       1.00      0.83      0.91        18\n",
      "         2.0       0.88      1.00      0.93         7\n",
      "         3.0       1.00      0.60      0.75         5\n",
      "         4.0       1.00      0.25      0.40         4\n",
      "         5.0       1.00      1.00      1.00         1\n",
      "         6.0       1.00      1.00      1.00         5\n",
      "         7.0       0.00      0.00      0.00         0\n",
      "         8.0       0.00      0.00      0.00         5\n",
      "         9.0       1.00      0.25      0.40         4\n",
      "        10.0       0.00      0.00      0.00         1\n",
      "        11.0       0.00      0.00      0.00         0\n",
      "        12.0       0.00      0.00      0.00         0\n",
      "        13.0       0.00      0.00      0.00         3\n",
      "        14.0       0.00      0.00      0.00         2\n",
      "        15.0       0.00      0.00      0.00         1\n",
      "        17.0       0.00      0.00      0.00         2\n",
      "        18.0       0.50      1.00      0.67         1\n",
      "        19.0       0.00      0.00      0.00         2\n",
      "        20.0       0.00      0.00      0.00         1\n",
      "        21.0       0.00      0.00      0.00         1\n",
      "        22.0       0.50      1.00      0.67         1\n",
      "        23.0       1.00      0.50      0.67         2\n",
      "        25.0       0.00      0.00      0.00         1\n",
      "        26.0       0.00      0.00      0.00         2\n",
      "        27.0       0.00      0.00      0.00         0\n",
      "        28.0       0.50      1.00      0.67         1\n",
      "        31.0       0.00      0.00      0.00         1\n",
      "        35.0       1.00      1.00      1.00         1\n",
      "        38.0       0.00      0.00      0.00         1\n",
      "        43.0       0.00      0.00      0.00         0\n",
      "        47.0       0.00      0.00      0.00         1\n",
      "        48.0       0.00      0.00      0.00         0\n",
      "        49.0       1.00      1.00      1.00         1\n",
      "        50.0       0.00      0.00      0.00         0\n",
      "        52.0       0.00      0.00      0.00         0\n",
      "        53.0       0.00      0.00      0.00         0\n",
      "        54.0       0.00      0.00      0.00         2\n",
      "        56.0       0.00      0.00      0.00         2\n",
      "        57.0       0.00      0.00      0.00         1\n",
      "        61.0       0.00      0.00      0.00         1\n",
      "        64.0       0.00      0.00      0.00         1\n",
      "        65.0       0.00      0.00      0.00         0\n",
      "        73.0       0.00      0.00      0.00         1\n",
      "        75.0       0.00      0.00      0.00         1\n",
      "        76.0       0.00      0.00      0.00         1\n",
      "\n",
      "    accuracy                           0.52       109\n",
      "   macro avg       0.26      0.24      0.23       109\n",
      "weighted avg       0.55      0.52      0.51       109\n",
      "\n",
      "0.5229357798165137\n"
     ]
    }
   ],
   "source": [
    "#OneVsRest\n",
    "print(\"# Onevsrest\")\n",
    "get_classification_report(oneRest(trainingData,testData),\"features\",\"label\")"
   ]
  },
  {
   "cell_type": "markdown",
   "metadata": {},
   "source": [
    "Pipeline 5: Using USE Embeddings"
   ]
  },
  {
   "cell_type": "code",
   "execution_count": 25,
   "metadata": {},
   "outputs": [
    {
     "name": "stdout",
     "output_type": "stream",
     "text": [
      "elmo download started this may take some time.\n",
      "Approximate size to download 334.1 MB\n",
      "[OK!]\n"
     ]
    }
   ],
   "source": [
    "inputCol = \"translatedtext\"\n",
    "outputCol = \"Category2(Optional)\"\n",
    "pipeline = get_pipeline2(2,inputCol,outputCol)\n",
    "processed_df = pipeline.fit(df).transform(df)\n",
    "trainingData,testData = train_test_split(processed_df)\n",
    "trainingData,testData = process_train_test_data(trainingData,testData,\"features\")\n",
    "bins = len(df.select(outputCol).distinct().collect())"
   ]
  },
  {
   "cell_type": "code",
   "execution_count": 26,
   "metadata": {},
   "outputs": [
    {
     "name": "stdout",
     "output_type": "stream",
     "text": [
      "# Logistic Regression\n",
      "\n",
      "MulticlassEvaluator score:  1.0000000000000004\n",
      "              precision    recall  f1-score   support\n",
      "\n",
      "         0.0       0.43      0.84      0.57        25\n",
      "         1.0       0.90      0.90      0.90        20\n",
      "         2.0       0.56      0.83      0.67         6\n",
      "         3.0       0.54      1.00      0.70         7\n",
      "         4.0       0.00      0.00      0.00         3\n",
      "         5.0       1.00      1.00      1.00         1\n",
      "         6.0       1.00      1.00      1.00         3\n",
      "         7.0       0.14      0.25      0.18         4\n",
      "         8.0       0.00      0.00      0.00         1\n",
      "         9.0       0.00      0.00      0.00         1\n",
      "        10.0       0.00      0.00      0.00         2\n",
      "        11.0       0.00      0.00      0.00         3\n",
      "        12.0       0.00      0.00      0.00         0\n",
      "        13.0       0.00      0.00      0.00         3\n",
      "        14.0       0.00      0.00      0.00         0\n",
      "        15.0       0.00      0.00      0.00         1\n",
      "        17.0       0.00      0.00      0.00         1\n",
      "        18.0       0.00      0.00      0.00         2\n",
      "        19.0       0.00      0.00      0.00         1\n",
      "        21.0       0.00      0.00      0.00         1\n",
      "        25.0       0.00      0.00      0.00         1\n",
      "        26.0       0.00      0.00      0.00         1\n",
      "        27.0       0.00      0.00      0.00         1\n",
      "        28.0       0.00      0.00      0.00         2\n",
      "        31.0       0.00      0.00      0.00         1\n",
      "        34.0       0.00      0.00      0.00         1\n",
      "        38.0       0.00      0.00      0.00         1\n",
      "        39.0       0.00      0.00      0.00         2\n",
      "        40.0       0.00      0.00      0.00         1\n",
      "        41.0       0.00      0.00      0.00         0\n",
      "        42.0       0.00      0.00      0.00         1\n",
      "        43.0       0.00      0.00      0.00         1\n",
      "        45.0       0.00      0.00      0.00         2\n",
      "        48.0       0.00      0.00      0.00         1\n",
      "        53.0       0.00      0.00      0.00         1\n",
      "        56.0       0.00      0.00      0.00         1\n",
      "        57.0       0.00      0.00      0.00         2\n",
      "        72.0       0.00      0.00      0.00         1\n",
      "        74.0       0.00      0.00      0.00         1\n",
      "        76.0       0.00      0.00      0.00         1\n",
      "\n",
      "    accuracy                           0.52       108\n",
      "   macro avg       0.11      0.15      0.13       108\n",
      "weighted avg       0.37      0.52      0.42       108\n",
      "\n",
      "0.5185185185185185\n"
     ]
    }
   ],
   "source": [
    "#Logistic Regression\n",
    "print(\"# Logistic Regression\\n\")\n",
    "get_classification_report(logistic_regression(trainingData,testData),\"features\",\"label\")"
   ]
  },
  {
   "cell_type": "code",
   "execution_count": 27,
   "metadata": {},
   "outputs": [
    {
     "name": "stdout",
     "output_type": "stream",
     "text": [
      "# Random Forest\n",
      "MulticlassEvaluator score:  1.0000000000000004\n",
      "              precision    recall  f1-score   support\n",
      "\n",
      "         0.0       0.33      0.84      0.48        25\n",
      "         1.0       0.73      0.80      0.76        20\n",
      "         2.0       0.40      0.67      0.50         6\n",
      "         3.0       0.67      0.57      0.62         7\n",
      "         4.0       0.00      0.00      0.00         3\n",
      "         5.0       1.00      1.00      1.00         1\n",
      "         6.0       1.00      1.00      1.00         3\n",
      "         7.0       0.00      0.00      0.00         4\n",
      "         8.0       0.00      0.00      0.00         1\n",
      "         9.0       0.00      0.00      0.00         1\n",
      "        10.0       0.00      0.00      0.00         2\n",
      "        11.0       0.00      0.00      0.00         3\n",
      "        13.0       0.00      0.00      0.00         3\n",
      "        15.0       0.00      0.00      0.00         1\n",
      "        17.0       0.00      0.00      0.00         1\n",
      "        18.0       0.00      0.00      0.00         2\n",
      "        19.0       0.00      0.00      0.00         1\n",
      "        21.0       0.00      0.00      0.00         1\n",
      "        25.0       0.00      0.00      0.00         1\n",
      "        26.0       0.00      0.00      0.00         1\n",
      "        27.0       0.00      0.00      0.00         1\n",
      "        28.0       0.00      0.00      0.00         2\n",
      "        31.0       0.00      0.00      0.00         1\n",
      "        34.0       0.00      0.00      0.00         1\n",
      "        38.0       0.00      0.00      0.00         1\n",
      "        39.0       0.00      0.00      0.00         2\n",
      "        40.0       0.00      0.00      0.00         1\n",
      "        42.0       0.00      0.00      0.00         1\n",
      "        43.0       0.00      0.00      0.00         1\n",
      "        45.0       0.00      0.00      0.00         2\n",
      "        48.0       0.00      0.00      0.00         1\n",
      "        53.0       0.00      0.00      0.00         1\n",
      "        56.0       0.00      0.00      0.00         1\n",
      "        57.0       0.00      0.00      0.00         2\n",
      "        72.0       0.00      0.00      0.00         1\n",
      "        74.0       0.00      0.00      0.00         1\n",
      "        76.0       0.00      0.00      0.00         1\n",
      "\n",
      "    accuracy                           0.45       108\n",
      "   macro avg       0.11      0.13      0.12       108\n",
      "weighted avg       0.31      0.45      0.36       108\n",
      "\n",
      "0.4537037037037037\n"
     ]
    }
   ],
   "source": [
    "#Random Forest\n",
    "print(\"# Random Forest\")\n",
    "get_classification_report(random_forest_classifier(trainingData,testData,\"features\",\"label\",bins),\"features\",\"label\")    "
   ]
  },
  {
   "cell_type": "code",
   "execution_count": 28,
   "metadata": {},
   "outputs": [
    {
     "name": "stdout",
     "output_type": "stream",
     "text": [
      "# Onevsrest\n",
      "MulticlassEvaluator score:  1.0000000000000004\n",
      "              precision    recall  f1-score   support\n",
      "\n",
      "         0.0       0.69      0.72      0.71        25\n",
      "         1.0       0.86      0.95      0.90        20\n",
      "         2.0       0.86      1.00      0.92         6\n",
      "         3.0       0.67      0.86      0.75         7\n",
      "         4.0       0.00      0.00      0.00         3\n",
      "         5.0       0.50      1.00      0.67         1\n",
      "         6.0       1.00      1.00      1.00         3\n",
      "         7.0       0.29      0.50      0.36         4\n",
      "         8.0       0.33      1.00      0.50         1\n",
      "         9.0       0.00      0.00      0.00         1\n",
      "        10.0       0.00      0.00      0.00         2\n",
      "        11.0       0.50      0.33      0.40         3\n",
      "        12.0       0.00      0.00      0.00         0\n",
      "        13.0       0.00      0.00      0.00         3\n",
      "        14.0       0.00      0.00      0.00         0\n",
      "        15.0       0.00      0.00      0.00         1\n",
      "        16.0       0.00      0.00      0.00         0\n",
      "        17.0       0.00      0.00      0.00         1\n",
      "        18.0       1.00      0.50      0.67         2\n",
      "        19.0       0.00      0.00      0.00         1\n",
      "        21.0       0.00      0.00      0.00         1\n",
      "        24.0       0.00      0.00      0.00         0\n",
      "        25.0       0.00      0.00      0.00         1\n",
      "        26.0       0.50      1.00      0.67         1\n",
      "        27.0       0.00      0.00      0.00         1\n",
      "        28.0       0.00      0.00      0.00         2\n",
      "        30.0       0.00      0.00      0.00         0\n",
      "        31.0       0.00      0.00      0.00         1\n",
      "        33.0       0.00      0.00      0.00         0\n",
      "        34.0       0.00      0.00      0.00         1\n",
      "        38.0       0.00      0.00      0.00         1\n",
      "        39.0       0.00      0.00      0.00         2\n",
      "        40.0       1.00      1.00      1.00         1\n",
      "        41.0       0.00      0.00      0.00         0\n",
      "        42.0       0.00      0.00      0.00         1\n",
      "        43.0       0.00      0.00      0.00         1\n",
      "        44.0       0.00      0.00      0.00         0\n",
      "        45.0       0.00      0.00      0.00         2\n",
      "        48.0       1.00      1.00      1.00         1\n",
      "        53.0       1.00      1.00      1.00         1\n",
      "        56.0       0.00      0.00      0.00         1\n",
      "        57.0       0.00      0.00      0.00         2\n",
      "        60.0       0.00      0.00      0.00         0\n",
      "        70.0       0.00      0.00      0.00         0\n",
      "        72.0       0.00      0.00      0.00         1\n",
      "        74.0       0.00      0.00      0.00         1\n",
      "        76.0       0.00      0.00      0.00         1\n",
      "\n",
      "    accuracy                           0.57       108\n",
      "   macro avg       0.22      0.25      0.22       108\n",
      "weighted avg       0.52      0.57      0.54       108\n",
      "\n",
      "0.5740740740740741\n"
     ]
    }
   ],
   "source": [
    "#OneVsRest\n",
    "print(\"# Onevsrest\")\n",
    "get_classification_report(oneRest(trainingData,testData),\"features\",\"label\")"
   ]
  },
  {
   "cell_type": "code",
   "execution_count": null,
   "metadata": {},
   "outputs": [],
   "source": []
  }
 ],
 "metadata": {
  "kernelspec": {
   "display_name": "Python 3",
   "language": "python",
   "name": "python3"
  },
  "language_info": {
   "codemirror_mode": {
    "name": "ipython",
    "version": 3
   },
   "file_extension": ".py",
   "mimetype": "text/x-python",
   "name": "python",
   "nbconvert_exporter": "python",
   "pygments_lexer": "ipython3",
   "version": "3.7.7"
  }
 },
 "nbformat": 4,
 "nbformat_minor": 4
}
